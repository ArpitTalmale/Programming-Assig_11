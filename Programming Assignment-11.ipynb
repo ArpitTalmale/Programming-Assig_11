{
 "cells": [
  {
   "cell_type": "markdown",
   "id": "2da88b04",
   "metadata": {},
   "source": [
    "### 1. Write a Python program to find words which are greater than given length k ?"
   ]
  },
  {
   "cell_type": "code",
   "execution_count": 1,
   "id": "a3116b37",
   "metadata": {},
   "outputs": [
    {
     "name": "stdout",
     "output_type": "stream",
     "text": [
      "Enter the string:-python program to find words\n",
      "Enter the length of string:-5\n",
      "python,program\n"
     ]
    }
   ],
   "source": [
    "#Solution:-\n",
    "\n",
    "def str_length_check():\n",
    "    input_str = input( \"Enter the string:-\")\n",
    "    input_length = int(input(\"Enter the length of string:-\"))\n",
    "    output_str = []\n",
    "    for i in input_str.split(\" \"):\n",
    "        if len(i) > input_length:\n",
    "            output_str.append(i)\n",
    "    print(\",\".join(output_str))\n",
    "\n",
    "str_length_check()    \n",
    "    "
   ]
  },
  {
   "cell_type": "markdown",
   "id": "59c384ef",
   "metadata": {},
   "source": [
    "### 2. Write a Python program for removing i-th character from a string ?"
   ]
  },
  {
   "cell_type": "code",
   "execution_count": 2,
   "id": "aebaa071",
   "metadata": {},
   "outputs": [
    {
     "name": "stdout",
     "output_type": "stream",
     "text": [
      "Enter the string:-python \n",
      "Enter the integer to remove character:-3\n",
      "pyton \n"
     ]
    }
   ],
   "source": [
    "#Solution:-\n",
    "\n",
    "def char():\n",
    "    input_str = input(\"Enter the string:-\")\n",
    "    i_char = int(input(\"Enter the integer to remove character:-\"))\n",
    "    output_str = ''\n",
    "    for i in range(len(input_str)):\n",
    "        if i != i_char:\n",
    "            output_str = output_str + input_str[i]\n",
    "    print(output_str)\n",
    "\n",
    "char()    \n",
    "        \n",
    "            \n",
    "        "
   ]
  },
  {
   "cell_type": "markdown",
   "id": "bd494e26",
   "metadata": {},
   "source": [
    "### 3. Write a Python program to split and join a string ?"
   ]
  },
  {
   "cell_type": "code",
   "execution_count": 3,
   "id": "24e9e57f",
   "metadata": {},
   "outputs": [
    {
     "name": "stdout",
     "output_type": "stream",
     "text": [
      "Enter a string:-python and data science\n",
      "Split the given string:-['python', 'and', 'data', 'science']\n",
      "Join the string:-python and data science\n"
     ]
    }
   ],
   "source": [
    "#Solution:-\n",
    "\n",
    "def str_split():\n",
    "    input_str = input(\"Enter a string:-\")\n",
    "    print(f\"Split the given string:-{input_str.split(' ')}\")\n",
    "    print(f\"Join the string:-{' '.join(input_str.split(' '))}\")\n",
    "str_split()\n"
   ]
  },
  {
   "cell_type": "markdown",
   "id": "4b97a00f",
   "metadata": {},
   "source": [
    "### 4. Write a Python to check if a given string is binary string or not ?"
   ]
  },
  {
   "cell_type": "code",
   "execution_count": 4,
   "id": "ff047492",
   "metadata": {},
   "outputs": [
    {
     "name": "stdout",
     "output_type": "stream",
     "text": [
      "Enter the string:-110010101\n",
      "The given string is binary:- 110010101\n"
     ]
    }
   ],
   "source": [
    "#Solution:\n",
    "\n",
    "def binary_str():\n",
    "    input_str = input(\"Enter the string:-\")\n",
    "    b = {'0','1'}\n",
    "    c = set(input_str)\n",
    "    if b==c or c=={'0'} or c=={'1'}:\n",
    "        print(\"The given string is binary:-\",input_str)    \n",
    "    else:\n",
    "        print(\"The given string is not binary\")\n",
    "binary_str()    "
   ]
  },
  {
   "cell_type": "code",
   "execution_count": 5,
   "id": "68a5a6c9",
   "metadata": {},
   "outputs": [
    {
     "name": "stdout",
     "output_type": "stream",
     "text": [
      "Enter the string:-1234\n",
      "The given string is not binary\n"
     ]
    }
   ],
   "source": [
    "#Solution:\n",
    "\n",
    "def binary_str():\n",
    "    input_str = input(\"Enter the string:-\")\n",
    "    b = {'0','1'}\n",
    "    c = set(input_str)\n",
    "    if b==c or c=={'0'} or c=={'1'}:\n",
    "        print(\"The given string is binary:-\",input_str)    \n",
    "    else:\n",
    "        print(\"The given string is not binary\")\n",
    "binary_str()"
   ]
  },
  {
   "cell_type": "code",
   "execution_count": 6,
   "id": "31aa3149",
   "metadata": {},
   "outputs": [
    {
     "name": "stdout",
     "output_type": "stream",
     "text": [
      "Enter the string: 100010101\n",
      "The given string is binary\n"
     ]
    }
   ],
   "source": [
    "# Another way\n",
    "\n",
    "def checkbinary():\n",
    "    in_string = input('Enter the string: ')\n",
    "    count = 0\n",
    "    for i in in_string:\n",
    "        if i in ['0','1']:\n",
    "            count = 1\n",
    "            continue\n",
    "        else:\n",
    "            count = 0\n",
    "            break\n",
    "    if count==1:\n",
    "        print(\"The given string is binary\")\n",
    "    else:\n",
    "        print(\"The given string is not binary\")\n",
    "\n",
    "checkbinary()        "
   ]
  },
  {
   "cell_type": "markdown",
   "id": "f4396663",
   "metadata": {},
   "source": [
    "### 5. Write a Python program to find uncommon words from two Strings ?"
   ]
  },
  {
   "cell_type": "code",
   "execution_count": 15,
   "id": "7778f7ab",
   "metadata": {},
   "outputs": [
    {
     "name": "stdout",
     "output_type": "stream",
     "text": [
      "Enter the first string:-machine learning\n",
      "Enter the second string:-deep learning\n",
      "The uncommon word is ['machine', 'deep']\n"
     ]
    }
   ],
   "source": [
    "#Solution:-\n",
    "\n",
    "def uncommon_word():\n",
    "    first_str = input(\"Enter the first string:-\")\n",
    "    second_str = input(\"Enter the second string:-\")\n",
    "    a = first_str.split()\n",
    "    b = second_str.split()\n",
    "    uncommon_word = []\n",
    "    for word in a:\n",
    "        if word not in b:\n",
    "            uncommon_word.append(word)\n",
    "    for word in b:        \n",
    "        if word not in a:\n",
    "            uncommon_word.append(word)\n",
    "    c = list(set(uncommon_word))        \n",
    "    print(\"The uncommon word is\",c)\n",
    "uncommon_word()    \n",
    "    \n",
    "  "
   ]
  },
  {
   "cell_type": "markdown",
   "id": "ecab01db",
   "metadata": {},
   "source": [
    "### 6. Write a Python to find all duplicate characters in string ?"
   ]
  },
  {
   "cell_type": "code",
   "execution_count": 17,
   "id": "7a9dc23b",
   "metadata": {},
   "outputs": [
    {
     "name": "stdout",
     "output_type": "stream",
     "text": [
      "Enter the string:-full stack data science\n",
      "The duplicates characters are ['t', 'c', 'a', 'l', 's', ' ', 'e']\n"
     ]
    }
   ],
   "source": [
    "#Solution:-\n",
    "\n",
    "def duplicate_char():\n",
    "    input_str = input(\"Enter the string:-\")\n",
    "    dup_list = []\n",
    "    no_duplicate = []\n",
    "    for char in input_str:\n",
    "        if char not in no_duplicate:\n",
    "            no_duplicate.append(char)\n",
    "        else:\n",
    "            dup_list.append(char)      \n",
    "    print(\"The duplicates characters are\",list(set(dup_list)))\n",
    "duplicate_char()    \n",
    "            "
   ]
  },
  {
   "cell_type": "markdown",
   "id": "15480296",
   "metadata": {},
   "source": [
    "### 7. Write a Python Program to check if a string contains any special character? "
   ]
  },
  {
   "cell_type": "code",
   "execution_count": 21,
   "id": "df6f17d9",
   "metadata": {},
   "outputs": [
    {
     "name": "stdout",
     "output_type": "stream",
     "text": [
      "Enter the string:-python@ and #data science\n",
      "The list of special character present in given string is- ['@', '#']\n"
     ]
    }
   ],
   "source": [
    "#Solution:-\n",
    "\n",
    "def spec_char():\n",
    "    input_str = input(\"Enter the string:-\")\n",
    "    spl_char = '[@_!#$%^&*()<>?/\\|}{~:]'\n",
    "    spec_char_list = []\n",
    "    for char in input_str:\n",
    "        if char in spl_char:\n",
    "            spec_char_list.append(char)\n",
    "    print(\"The list of special character present in given string is-\",spec_char_list)        \n",
    "        \n",
    "    \n",
    "spec_char()            "
   ]
  }
 ],
 "metadata": {
  "kernelspec": {
   "display_name": "Python 3 (ipykernel)",
   "language": "python",
   "name": "python3"
  },
  "language_info": {
   "codemirror_mode": {
    "name": "ipython",
    "version": 3
   },
   "file_extension": ".py",
   "mimetype": "text/x-python",
   "name": "python",
   "nbconvert_exporter": "python",
   "pygments_lexer": "ipython3",
   "version": "3.10.9"
  }
 },
 "nbformat": 4,
 "nbformat_minor": 5
}
